{
 "cells": [
  {
   "cell_type": "code",
   "execution_count": null,
   "metadata": {},
   "outputs": [],
   "source": [
    "import cv2"
   ]
  },
  {
   "cell_type": "code",
   "execution_count": null,
   "metadata": {},
   "outputs": [],
   "source": [
    "#pretrained image classifier model to detect images..\n",
    "face=cv2.CascadeClassifier(\"face_rec.xml\")\n",
    "#cap=cv2.VideoCapture(0)\n",
    "i=0\n",
    "x=0\n",
    "#any condition u can mention as long as it is true,it runs and give u output.u can also use while true as it runs infinite time.\n",
    "#until webcam is on....\n",
    "while x>7:\n",
    "    # _ for playing video and img for reading image from video.\n",
    "    _,img=cap.read()\n",
    "    \n",
    "    # to convert capturing image into grayscale as it make it easy to detect. \n",
    "    gray=cv2.cvtColor(img,cv2.COLOR_BGR2GRAY)\n",
    "    \n",
    "    #to detect faces..\n",
    "    faces=face.detectMultiScale(gray,1.1,4)\n",
    "    \n",
    "    #to make rectangle on the detected face..u can also make circle or any other structure of ur own choice..\n",
    "    for(x,y,w,h) in faces:\n",
    "        cv2.rectangle(img,(x,y),(x+w,y+h),(255,0,0),2)\n",
    "        \n",
    "        #to show the image.\n",
    "        cv2.imshow(\"img\",img)\n",
    "        \n",
    "        #it is used to make the focus on image until u press the integer u passed in waitkey it will continue it..\n",
    "        k=cv2.waitkey(1)\n",
    "        x+=1\n",
    "        if k==4:\n",
    "            break\n",
    "#while program get terminated,it will release webcam(stop focusing) and destroy all the windows that are started before with\n",
    "#the help of cap.release and cap.destroyallwindows...\n",
    "cap.release()\n",
    "cv2.destroyAllWindows()"
   ]
  },
  {
   "cell_type": "code",
   "execution_count": null,
   "metadata": {},
   "outputs": [],
   "source": []
  }
 ],
 "metadata": {
  "kernelspec": {
   "display_name": "Python 3",
   "language": "python",
   "name": "python3"
  },
  "language_info": {
   "codemirror_mode": {
    "name": "ipython",
    "version": 3
   },
   "file_extension": ".py",
   "mimetype": "text/x-python",
   "name": "python",
   "nbconvert_exporter": "python",
   "pygments_lexer": "ipython3",
   "version": "3.8.2"
  }
 },
 "nbformat": 4,
 "nbformat_minor": 4
}
